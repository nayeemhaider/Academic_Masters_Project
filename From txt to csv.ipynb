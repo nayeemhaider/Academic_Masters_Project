{
 "cells": [
  {
   "cell_type": "markdown",
   "metadata": {},
   "source": [
    "# Converting .txt file to .csv"
   ]
  },
  {
   "cell_type": "code",
   "execution_count": 21,
   "metadata": {},
   "outputs": [],
   "source": [
    "import os\n",
    "import csv\n",
    "import pandas as pd\n",
    " \n",
    "save_path = \"C:/Users/Nayeem/Desktop/Measurement CSV files/Person 1/raw\"\n",
    " \n",
    "in_filename = os.path.join(save_path,'Project-measurements_13_hand_2020-03-09_16-21-49_formatted.ctm')\n",
    "out_filename = os.path.join(save_path,'Project-measurements_13_hand_2020-03-09_16-21-49_formatted.csv')\n",
    " \n",
    "df = pd.read_csv(in_filename, sep=\";\")\n",
    "df.to_csv(out_filename, index=False)"
   ]
  },
  {
   "cell_type": "code",
   "execution_count": null,
   "metadata": {},
   "outputs": [],
   "source": []
  }
 ],
 "metadata": {
  "kernelspec": {
   "display_name": "Python 3",
   "language": "python",
   "name": "python3"
  },
  "language_info": {
   "codemirror_mode": {
    "name": "ipython",
    "version": 3
   },
   "file_extension": ".py",
   "mimetype": "text/x-python",
   "name": "python",
   "nbconvert_exporter": "python",
   "pygments_lexer": "ipython3",
   "version": "3.8.5"
  }
 },
 "nbformat": 4,
 "nbformat_minor": 2
}
